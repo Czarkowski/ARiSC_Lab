{
 "cells": [
  {
   "cell_type": "markdown",
   "metadata": {},
   "source": [
    "## SARiSC Laboratorium"
   ]
  },
  {
   "cell_type": "code",
   "execution_count": 2,
   "metadata": {},
   "outputs": [],
   "source": [
    "import pandas as pd\n",
    "# from pandas_profiling import ProfileReport\n",
    "from sklearn.model_selection import train_test_split\n",
    "from sklearn.linear_model import LinearRegression\n",
    "from sklearn.tree import DecisionTreeRegressor\n",
    "from sklearn.ensemble import RandomForestRegressor\n",
    "from sklearn.neural_network import MLPRegressor\n",
    "from sklearn.metrics import mean_absolute_error, mean_squared_error, r2_score\n",
    "import numpy as np\n",
    "from sklearn.preprocessing import StandardScaler\n",
    "import m2cgen as m2c"
   ]
  },
  {
   "cell_type": "code",
   "execution_count": 3,
   "metadata": {},
   "outputs": [],
   "source": [
    "def GetTimeSeriesData(df: pd.DataFrame, target_col: str, point_per_series: int, forward_index: int, step_next: int=5):\n",
    "    listNew = []\n",
    "    listValue = []\n",
    "    data_range = point_per_series\n",
    "    data_range_index = data_range - 1\n",
    "    full_range = point_per_series + forward_index\n",
    "    full_range_index = full_range - 1\n",
    "    start = 0\n",
    "    print(df.__len__())\n",
    "    for j in range(start, df.__len__() - full_range_index, step_next):\n",
    "        listTemp = []\n",
    "        for k in range(0, data_range):\n",
    "            listTemp.append(df.iloc[k+j][df.columns.difference([target_col])].tolist())\n",
    "            # listTemp.append(df[j + (k - start)])\n",
    "        listNew.append(listTemp)\n",
    "        listValue.append((df.iloc[full_range_index+j][target_col] - df.iloc[data_range_index+j][target_col]) >= 0)\n",
    "        # listValue.append((tab[j + stepForward][targetIndes] >= tab[j][targetIndes]).astype(int))\n",
    "    return np.array(listNew), np.array(listValue)"
   ]
  },
  {
   "cell_type": "markdown",
   "metadata": {},
   "source": []
  },
  {
   "cell_type": "code",
   "execution_count": 4,
   "metadata": {},
   "outputs": [
    {
     "name": "stderr",
     "output_type": "stream",
     "text": [
      "C:\\Users\\Cezary\\AppData\\Local\\Temp\\ipykernel_25804\\3584169503.py:1: FutureWarning: The argument 'date_parser' is deprecated and will be removed in a future version. Please use 'date_format' instead, or read your data in as 'object' dtype and then call 'to_datetime'.\n",
      "  df = pd.read_csv('EURPLN_Candlestick_1_h_BID_01.05.2021-30.04.2024.csv', parse_dates=['Gmt time'],\n"
     ]
    }
   ],
   "source": [
    "df = pd.read_csv('EURPLN_Candlestick_1_h_BID_01.05.2021-30.04.2024.csv', parse_dates=['Gmt time'],\n",
    "                 date_parser=lambda x: pd.to_datetime(x, format='%d.%m.%Y %H:%M:%S.%f'))\n",
    "\n",
    "\n",
    "# Dodaj kolumnę z dniem tygodnia\n",
    "df['Day of Week'] = df['Gmt time'].dt.dayofweek\n",
    "\n",
    "# Dodaj kolumnę z godziną w ciągu dnia\n",
    "df['Hour of Day'] = df['Gmt time'].dt.hour\n",
    "\n",
    "df = df.drop(columns=['Gmt time'])"
   ]
  },
  {
   "cell_type": "code",
   "execution_count": 5,
   "metadata": {},
   "outputs": [
    {
     "name": "stdout",
     "output_type": "stream",
     "text": [
      "      Open     High      Low    Close  Volume  Day of Week  Hour of Day\n",
      "0  4.55005  4.55005  4.55005  4.55005     0.0            5            0\n",
      "1  4.55005  4.55005  4.55005  4.55005     0.0            5            1\n",
      "2  4.55005  4.55005  4.55005  4.55005     0.0            5            2\n",
      "3  4.55005  4.55005  4.55005  4.55005     0.0            5            3\n",
      "4  4.55005  4.55005  4.55005  4.55005     0.0            5            4\n",
      "       Open    High       Low     Close  Volume  Day of Week  Hour of Day\n",
      "0 -0.134024 -0.1494 -0.117971 -0.134211     0.0            5            0\n",
      "1 -0.134024 -0.1494 -0.117971 -0.134211     0.0            5            1\n",
      "2 -0.134024 -0.1494 -0.117971 -0.134211     0.0            5            2\n",
      "3 -0.134024 -0.1494 -0.117971 -0.134211     0.0            5            3\n",
      "4 -0.134024 -0.1494 -0.117971 -0.134211     0.0            5            4\n"
     ]
    }
   ],
   "source": [
    "print(df.head())\n",
    "columns_to_standardize = ['Open', 'High', 'Low', 'Close']\n",
    "df_standarized = df.copy()\n",
    "# Inicjalizuj StandardScaler\n",
    "scaler = StandardScaler()\n",
    "\n",
    "# Standaryzuj wybrane kolumny\n",
    "df_standarized[columns_to_standardize] = scaler.fit_transform(df[columns_to_standardize])\n",
    "\n",
    "# Dla kolumny 'Volume' podziel wartości przez odchylenie standardowe\n",
    "volume_std = df['Volume'].std()\n",
    "df_standarized['Volume'] = df['Volume'] / volume_std\n",
    "\n",
    "print(df_standarized.head())"
   ]
  },
  {
   "cell_type": "code",
   "execution_count": 6,
   "metadata": {},
   "outputs": [
    {
     "name": "stdout",
     "output_type": "stream",
     "text": [
      "26304\n",
      "(26293, 10, 6)\n",
      "(26293,)\n"
     ]
    }
   ],
   "source": [
    "time_series_data, time_series_Value = GetTimeSeriesData(df_standarized, 'Open', 10, 2, 1)\n",
    "print(time_series_data.shape)\n",
    "print(time_series_Value.shape)"
   ]
  },
  {
   "cell_type": "code",
   "execution_count": 17,
   "metadata": {},
   "outputs": [
    {
     "name": "stdout",
     "output_type": "stream",
     "text": [
      "(26293, 60)\n"
     ]
    }
   ],
   "source": [
    "reshaped_array = time_series_data.reshape(time_series_data.shape[0], -1)\n",
    "print(reshaped_array.shape)"
   ]
  },
  {
   "cell_type": "code",
   "execution_count": 18,
   "metadata": {},
   "outputs": [],
   "source": [
    "X_train, X_test, y_train, y_test = train_test_split(reshaped_array, time_series_Value, test_size=0.2, random_state=42)"
   ]
  },
  {
   "cell_type": "code",
   "execution_count": null,
   "metadata": {},
   "outputs": [],
   "source": [
    "\n",
    "\n"
   ]
  },
  {
   "cell_type": "code",
   "execution_count": 19,
   "metadata": {},
   "outputs": [
    {
     "name": "stdout",
     "output_type": "stream",
     "text": [
      "Mean Squared Error: 0.30823350446853015\n"
     ]
    }
   ],
   "source": [
    "model = DecisionTreeRegressor(random_state=42)\n",
    "model.fit(X_train, y_train)\n",
    "\n",
    "# Przewidywanie na zbiorze testowym\n",
    "y_pred = model.predict(X_test)\n",
    "\n",
    "# Ocena modelu\n",
    "mse = mean_squared_error(y_test, y_pred)\n",
    "print(f'Mean Squared Error: {mse}')"
   ]
  },
  {
   "cell_type": "code",
   "execution_count": 21,
   "metadata": {},
   "outputs": [],
   "source": [
    "java_code = m2c.export_to_java(model)\n",
    "\n",
    "# Zapisanie kodu Java do pliku\n",
    "with open(\"LinearRegressionModel.java\", \"w\") as f:\n",
    "    f.write(java_code)"
   ]
  },
  {
   "cell_type": "code",
   "execution_count": null,
   "metadata": {},
   "outputs": [],
   "source": []
  },
  {
   "cell_type": "code",
   "execution_count": 10,
   "metadata": {},
   "outputs": [
    {
     "name": "stdout",
     "output_type": "stream",
     "text": [
      "Mean Squared Error (MSE) dla regresji liniowej: 0.5558915986952425\n",
      "Mean Squared Error (MSE) dla drzewa decyzyjnego: 0.25320457943178676\n",
      "Mean Squared Error (MSE) dla modelu opartego na sieciach neuronowych: 0.6313990874886894\n"
     ]
    }
   ],
   "source": [
    "\n"
   ]
  },
  {
   "cell_type": "code",
   "execution_count": 11,
   "metadata": {},
   "outputs": [
    {
     "name": "stdout",
     "output_type": "stream",
     "text": [
      "Mean Absolute Error (MAE):\n",
      "Regresja liniowa: 0.5332001304956989\n",
      "Drzewo decyzyjne: 0.32685366124031023\n",
      "Sieć neuronowa: 0.602894055920684\n",
      "\n",
      "Root Mean Squared Error (RMSE):\n",
      "Regresja liniowa: 0.7455813830127751\n",
      "Drzewo decyzyjne: 0.5031943753976059\n",
      "Sieć neuronowa: 0.7946062468220908\n",
      "\n",
      "R^2 score:\n",
      "Regresja liniowa: 0.5757877060324521\n",
      "Drzewo decyzyjne: 0.8067743859846794\n",
      "Sieć neuronowa: 0.5181663908192364\n"
     ]
    }
   ],
   "source": []
  }
 ],
 "metadata": {
  "kernelspec": {
   "display_name": "Python 3",
   "language": "python",
   "name": "python3"
  },
  "language_info": {
   "codemirror_mode": {
    "name": "ipython",
    "version": 3
   },
   "file_extension": ".py",
   "mimetype": "text/x-python",
   "name": "python",
   "nbconvert_exporter": "python",
   "pygments_lexer": "ipython3",
   "version": "3.10.10"
  }
 },
 "nbformat": 4,
 "nbformat_minor": 4
}
