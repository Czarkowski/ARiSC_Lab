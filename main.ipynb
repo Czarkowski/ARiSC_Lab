{
 "cells": [
  {
   "cell_type": "markdown",
   "metadata": {},
   "source": [
    "## SARiSC Laboratorium"
   ]
  },
  {
   "cell_type": "code",
   "execution_count": 18,
   "metadata": {},
   "outputs": [],
   "source": [
    "import pandas as pd\n",
    "from pandas_profiling import ProfileReport\n",
    "from sklearn.model_selection import train_test_split\n",
    "from sklearn.linear_model import LinearRegression\n",
    "from sklearn.tree import DecisionTreeRegressor\n",
    "from sklearn.neural_network import MLPRegressor\n",
    "from sklearn.metrics import mean_absolute_error, mean_squared_error, r2_score\n",
    "import numpy as np\n",
    "from sklearn.preprocessing import StandardScaler"
   ]
  },
  {
   "cell_type": "markdown",
   "metadata": {},
   "source": [
    "1. longitude: A measure of how far west a house is; a higher value is farther west\n",
    "\n",
    "2. latitude: A measure of how far north a house is; a higher value is farther north\n",
    "\n",
    "3. housingMedianAge: Median age of a house within a block; a lower number is a newer building\n",
    "\n",
    "4. totalRooms: Total number of rooms within a block\n",
    "\n",
    "5. totalBedrooms: Total number of bedrooms within a block\n",
    "\n",
    "6. population: Total number of people residing within a block\n",
    "\n",
    "7. households: Total number of households, a group of people residing within a home unit, for a block\n",
    "\n",
    "8. medianIncome: Median income for households within a block of houses (measured in tens of thousands of US Dollars)\n",
    "\n",
    "9. medianHouseValue: Median house value for households within a block (measured in US Dollars)\n",
    "\n",
    "10. oceanProximity: Location of the house w.r.t ocean/sea"
   ]
  },
  {
   "cell_type": "code",
   "execution_count": 7,
   "metadata": {},
   "outputs": [
    {
     "data": {
      "application/vnd.jupyter.widget-view+json": {
       "model_id": "7c40a290456644cc8af3b1df18e66128",
       "version_major": 2,
       "version_minor": 0
      },
      "text/plain": [
       "Summarize dataset:   0%|          | 0/5 [00:00<?, ?it/s]"
      ]
     },
     "metadata": {},
     "output_type": "display_data"
    },
    {
     "data": {
      "application/vnd.jupyter.widget-view+json": {
       "model_id": "2224f7c5efc9488cb20a1a20c1588a47",
       "version_major": 2,
       "version_minor": 0
      },
      "text/plain": [
       "Generate report structure:   0%|          | 0/1 [00:00<?, ?it/s]"
      ]
     },
     "metadata": {},
     "output_type": "display_data"
    },
    {
     "data": {
      "application/vnd.jupyter.widget-view+json": {
       "model_id": "4a485d8cd9f24dcba0d0b2c3640cba00",
       "version_major": 2,
       "version_minor": 0
      },
      "text/plain": [
       "Render HTML:   0%|          | 0/1 [00:00<?, ?it/s]"
      ]
     },
     "metadata": {},
     "output_type": "display_data"
    },
    {
     "name": "stderr",
     "output_type": "stream",
     "text": [
      "c:\\Users\\Cezary\\AppData\\Local\\Programs\\Python\\Python310\\lib\\site-packages\\ydata_profiling\\profile_report.py:375: UserWarning: Extension .pdf not supported. For now we assume .html was intended. To remove this warning, please use .html or .json.\n",
      "  warnings.warn(\n"
     ]
    },
    {
     "data": {
      "application/vnd.jupyter.widget-view+json": {
       "model_id": "372af4eb14db429ba4e3c3c83f111d7f",
       "version_major": 2,
       "version_minor": 0
      },
      "text/plain": [
       "Export report to file:   0%|          | 0/1 [00:00<?, ?it/s]"
      ]
     },
     "metadata": {},
     "output_type": "display_data"
    }
   ],
   "source": [
    "df = pd.read_csv('housing.csv')\n",
    "profile = ProfileReport(df, title='California Housing Prices - EDA Report', explorative=True)\n",
    "profile.to_file(\"california_housing_eda_report.html\")"
   ]
  },
  {
   "cell_type": "code",
   "execution_count": 21,
   "metadata": {},
   "outputs": [
    {
     "name": "stdout",
     "output_type": "stream",
     "text": [
      "Kolumny z wartościami NaN oraz ich liczba:\n",
      "total_bedrooms    207\n",
      "dtype: int64\n",
      "Kolumny z wartościami NaN oraz ich liczba:\n",
      "Series([], dtype: int64)\n",
      "<class 'pandas.core.frame.DataFrame'>\n",
      "Index: 20433 entries, 0 to 20639\n",
      "Data columns (total 14 columns):\n",
      " #   Column                      Non-Null Count  Dtype  \n",
      "---  ------                      --------------  -----  \n",
      " 0   longitude                   20433 non-null  float64\n",
      " 1   latitude                    20433 non-null  float64\n",
      " 2   housing_median_age          20433 non-null  float64\n",
      " 3   total_rooms                 20433 non-null  float64\n",
      " 4   total_bedrooms              20433 non-null  float64\n",
      " 5   population                  20433 non-null  float64\n",
      " 6   households                  20433 non-null  float64\n",
      " 7   median_income               20433 non-null  float64\n",
      " 8   median_house_value          20433 non-null  float64\n",
      " 9   ocean_proximity_<1H OCEAN   20433 non-null  bool   \n",
      " 10  ocean_proximity_INLAND      20433 non-null  bool   \n",
      " 11  ocean_proximity_ISLAND      20433 non-null  bool   \n",
      " 12  ocean_proximity_NEAR BAY    20433 non-null  bool   \n",
      " 13  ocean_proximity_NEAR OCEAN  20433 non-null  bool   \n",
      "dtypes: bool(5), float64(9)\n",
      "memory usage: 1.7 MB\n",
      "None\n",
      "          longitude      latitude  housing_median_age   total_rooms   \n",
      "count  2.043300e+04  2.043300e+04        2.043300e+04  2.043300e+04  \\\n",
      "mean  -8.457103e-16  1.535632e-15        5.007495e-17 -3.407879e-17   \n",
      "std    1.000024e+00  1.000024e+00        1.000024e+00  1.000024e+00   \n",
      "min   -2.385447e+00 -1.447937e+00       -2.194584e+00 -1.205604e+00   \n",
      "25%   -1.112692e+00 -7.972780e-01       -8.444662e-01 -5.429688e-01   \n",
      "50%    5.393926e-01 -6.428050e-01        2.913923e-02 -2.331597e-01   \n",
      "75%    7.789699e-01  9.768213e-01        6.644886e-01  2.317829e-01   \n",
      "max    2.625711e+00  2.956885e+00        1.855769e+00  1.678713e+01   \n",
      "\n",
      "       total_bedrooms    population    households  median_income   \n",
      "count    2.043300e+04  2.043300e+04  2.043300e+04   2.043300e+04  \\\n",
      "mean    -7.233049e-17 -8.067632e-17 -6.676661e-17   2.948858e-16   \n",
      "std      1.000024e+00  1.000024e+00  1.000024e+00   1.000024e+00   \n",
      "min     -1.274093e+00 -1.254828e+00 -1.303810e+00  -1.775054e+00   \n",
      "25%     -5.740034e-01 -5.629702e-01 -5.739976e-01  -6.884113e-01   \n",
      "50%     -2.441308e-01 -2.285134e-01 -2.365573e-01  -1.762077e-01   \n",
      "75%      2.589843e-01  2.621409e-01  2.735268e-01   4.595713e-01   \n",
      "max      1.401871e+01  3.023088e+01  1.460297e+01   5.859665e+00   \n",
      "\n",
      "       median_house_value  \n",
      "count        20433.000000  \n",
      "mean        206864.413155  \n",
      "std         115435.667099  \n",
      "min          14999.000000  \n",
      "25%         119500.000000  \n",
      "50%         179700.000000  \n",
      "75%         264700.000000  \n",
      "max         500001.000000  \n"
     ]
    }
   ],
   "source": [
    "nan_values = df.isna().sum()\n",
    "\n",
    "print(\"Kolumny z wartościami NaN oraz ich liczba:\")\n",
    "print(nan_values[nan_values > 0])\n",
    "\n",
    "df_cleaned = df.dropna()\n",
    "\n",
    "nan_values = df_cleaned.isna().sum()\n",
    "\n",
    "print(\"Kolumny z wartościami NaN oraz ich liczba:\")\n",
    "print(nan_values[nan_values > 0])\n",
    "\n",
    "ocean_proximity_encoded = pd.get_dummies(df_cleaned['ocean_proximity'], prefix='ocean_proximity')\n",
    "df_encoded = pd.concat([df_cleaned, ocean_proximity_encoded], axis=1)\n",
    "df_encoded.drop('ocean_proximity', axis=1, inplace=True)\n",
    "\n",
    "scaler = StandardScaler()\n",
    "\n",
    "columns_to_standardize = ['longitude','latitude','housing_median_age','total_rooms','total_bedrooms','population','households','median_income']\n",
    "\n",
    "df_encoded[columns_to_standardize] = scaler.fit_transform(df_encoded[columns_to_standardize])\n",
    "\n",
    "print(df_encoded.info())\n",
    "print(df_encoded.describe())\n"
   ]
  },
  {
   "cell_type": "code",
   "execution_count": 29,
   "metadata": {},
   "outputs": [
    {
     "name": "stdout",
     "output_type": "stream",
     "text": [
      "Mean Squared Error (MSE) dla regresji liniowej: 4802173538.604159\n",
      "Mean Squared Error (MSE) dla drzewa decyzyjnego: 5089544884.890054\n",
      "Mean Squared Error (MSE) dla modelu opartego na sieciach neuronowych: 3570185353.0107675\n"
     ]
    },
    {
     "name": "stderr",
     "output_type": "stream",
     "text": [
      "c:\\Users\\Cezary\\AppData\\Local\\Programs\\Python\\Python310\\lib\\site-packages\\sklearn\\neural_network\\_multilayer_perceptron.py:686: ConvergenceWarning: Stochastic Optimizer: Maximum iterations (1000) reached and the optimization hasn't converged yet.\n",
      "  warnings.warn(\n"
     ]
    }
   ],
   "source": [
    "\n",
    "\n",
    "X = df_encoded.drop(columns=['median_house_value'])  \n",
    "y = df_encoded['median_house_value']\n",
    "\n",
    "X_train, X_test, y_train, y_test = train_test_split(X, y, test_size=0.2, random_state=42)\n",
    "\n",
    "linear_reg = LinearRegression()\n",
    "decision_tree_reg = DecisionTreeRegressor(max_depth=5, min_samples_split=2, min_samples_leaf=1)\n",
    "neural_network_reg = MLPRegressor(hidden_layer_sizes=(100, 50), activation='relu', solver='adam', max_iter=1000)\n",
    "\n",
    "linear_reg.fit(X_train, y_train)\n",
    "decision_tree_reg.fit(X_train, y_train)\n",
    "neural_network_reg.fit(X_train, y_train)\n",
    "\n",
    "linear_reg_pred = linear_reg.predict(X_test)\n",
    "decision_tree_reg_pred = decision_tree_reg.predict(X_test)\n",
    "neural_network_reg_pred = neural_network_reg.predict(X_test)\n",
    "\n",
    "linear_reg_mse = mean_squared_error(y_test, linear_reg_pred)\n",
    "decision_tree_reg_mse = mean_squared_error(y_test, decision_tree_reg_pred)\n",
    "neural_network_reg_mse = mean_squared_error(y_test, neural_network_reg_pred)\n",
    "\n",
    "print(\"Mean Squared Error (MSE) dla regresji liniowej:\", linear_reg_mse)\n",
    "print(\"Mean Squared Error (MSE) dla drzewa decyzyjnego:\", decision_tree_reg_mse)\n",
    "print(\"Mean Squared Error (MSE) dla modelu opartego na sieciach neuronowych:\", neural_network_reg_mse)\n"
   ]
  },
  {
   "cell_type": "code",
   "execution_count": 31,
   "metadata": {},
   "outputs": [
    {
     "name": "stdout",
     "output_type": "stream",
     "text": [
      "Mean Absolute Error (MAE):\n",
      "Regresja liniowa: 50413.43330810035\n",
      "Drzewo decyzyjne: 50571.18306701999\n",
      "Sieć neuronowa: 41405.62684873046\n",
      "\n",
      "Root Mean Squared Error (RMSE):\n",
      "Regresja liniowa: 69297.7166911303\n",
      "Drzewo decyzyjne: 71341.04628395951\n",
      "Sieć neuronowa: 59751.028049823275\n",
      "\n",
      "R^2 score:\n",
      "Regresja liniowa: 0.6488402154431994\n",
      "Drzewo decyzyjne: 0.6278261352067561\n",
      "Sieć neuronowa: 0.7389295681814283\n"
     ]
    }
   ],
   "source": [
    "linear_reg_mae = mean_absolute_error(y_test, linear_reg_pred)\n",
    "decision_tree_reg_mae = mean_absolute_error(y_test, decision_tree_reg_pred)\n",
    "neural_network_reg_mae = mean_absolute_error(y_test, neural_network_reg_pred)\n",
    "\n",
    "linear_reg_rmse = np.sqrt(mean_squared_error(y_test, linear_reg_pred))\n",
    "decision_tree_reg_rmse = np.sqrt(mean_squared_error(y_test, decision_tree_reg_pred))\n",
    "neural_network_reg_rmse = np.sqrt(mean_squared_error(y_test, neural_network_reg_pred))\n",
    "\n",
    "linear_reg_r2 = r2_score(y_test, linear_reg_pred)\n",
    "decision_tree_reg_r2 = r2_score(y_test, decision_tree_reg_pred)\n",
    "neural_network_reg_r2 = r2_score(y_test, neural_network_reg_pred)\n",
    "\n",
    "print(\"Mean Absolute Error (MAE):\")\n",
    "print(\"Regresja liniowa:\", linear_reg_mae)\n",
    "print(\"Drzewo decyzyjne:\", decision_tree_reg_mae)\n",
    "print(\"Sieć neuronowa:\", neural_network_reg_mae)\n",
    "\n",
    "print(\"\\nRoot Mean Squared Error (RMSE):\")\n",
    "print(\"Regresja liniowa:\", linear_reg_rmse)\n",
    "print(\"Drzewo decyzyjne:\", decision_tree_reg_rmse)\n",
    "print(\"Sieć neuronowa:\", neural_network_reg_rmse)\n",
    "\n",
    "print(\"\\nR^2 score:\")\n",
    "print(\"Regresja liniowa:\", linear_reg_r2)\n",
    "print(\"Drzewo decyzyjne:\", decision_tree_reg_r2)\n",
    "print(\"Sieć neuronowa:\", neural_network_reg_r2)"
   ]
  }
 ],
 "metadata": {
  "kernelspec": {
   "display_name": "Python 3",
   "language": "python",
   "name": "python3"
  },
  "language_info": {
   "codemirror_mode": {
    "name": "ipython",
    "version": 3
   },
   "file_extension": ".py",
   "mimetype": "text/x-python",
   "name": "python",
   "nbconvert_exporter": "python",
   "pygments_lexer": "ipython3",
   "version": "3.10.10"
  }
 },
 "nbformat": 4,
 "nbformat_minor": 4
}
